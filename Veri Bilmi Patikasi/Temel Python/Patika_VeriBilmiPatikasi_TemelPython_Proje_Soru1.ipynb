{
 "cells": [
  {
   "cell_type": "markdown",
   "metadata": {},
   "source": [
    "# Soru"
   ]
  },
  {
   "cell_type": "markdown",
   "metadata": {},
   "source": [
    "1- Bir listeyi düzleştiren (flatten) fonksiyon yazın. Elemanları birden çok katmanlı listtlerden ([[3],2] gibi) oluşabileceği gibi, non-scalar verilerden de oluşabilir. Örnek olarak:\n",
    "\n",
    "input: [[1,'a',['cat'],2],[[[3]],'dog'],4,5]\n",
    "\n",
    "output: [1,'a','cat',2,3,'dog',4,5]"
   ]
  },
  {
   "cell_type": "markdown",
   "metadata": {},
   "source": [
    "# Çözüm"
   ]
  },
  {
   "cell_type": "code",
   "execution_count": 2,
   "metadata": {},
   "outputs": [
    {
     "name": "stdout",
     "output_type": "stream",
     "text": [
      "Write the List: (Ex: [1,2,[3,4]]  etc...)\n",
      "[[1,'a',['cat'],2],[[[3]],'dog'],4,5]\n",
      "\n",
      "Given List:\n",
      "[[1, 'a', ['cat'], 2], [[[3]], 'dog'], 4, 5]\n",
      "\n",
      "Flatten List:\n",
      "[1, 'a', 'cat', 2, 3, 'dog', 4, 5]\n"
     ]
    }
   ],
   "source": [
    "#Source\n",
    "def flattenOneDimension(List):    \n",
    "    \"flattens the given list  for once\"\n",
    "    flattenList=[]\n",
    "    \n",
    "    for e in List:\n",
    "        \n",
    "        if(type(e) is list):\n",
    "            flattenList.extend(list(e))\n",
    "        else:\n",
    "            flattenList.append(e)\n",
    "    \n",
    "    return flattenList\n",
    "\n",
    "def isAllElementflatten(List):\n",
    "    \"it returns false if there is list element in the given list\"\n",
    "    \n",
    "    for e in List:\n",
    "        if(type(e) is list):\n",
    "            return False\n",
    "    return True\n",
    "            \n",
    "def flattenAllDimension(List):\n",
    "    \"it flattens the list\"\n",
    "    \n",
    "    condition=isAllElementflatten(List)  \n",
    "    \n",
    "    while( not (condition)  ):\n",
    "        #Update The List\n",
    "        List=flattenOneDimension(List)\n",
    "        \n",
    "        #Update the Condition\n",
    "        condition=isAllElementflatten(List)\n",
    "    return List\n",
    "\n",
    "\n",
    "#input\n",
    "import ast\n",
    "\n",
    "List = ast.literal_eval(input(\"Write the List: (Ex: [1,2,[3,4]]  etc...)\\n\"))\n",
    "print(\"\\nGiven List:\\n\",List,sep=\"\")\n",
    "\n",
    "#Output\n",
    "print(\"\\nFlatten List:\\n\",flattenAllDimension(List),sep=\"\")            "
   ]
  }
 ],
 "metadata": {
  "kernelspec": {
   "display_name": "Python 3",
   "language": "python",
   "name": "python3"
  },
  "language_info": {
   "codemirror_mode": {
    "name": "ipython",
    "version": 3
   },
   "file_extension": ".py",
   "mimetype": "text/x-python",
   "name": "python",
   "nbconvert_exporter": "python",
   "pygments_lexer": "ipython3",
   "version": "3.7.1"
  }
 },
 "nbformat": 4,
 "nbformat_minor": 4
}
