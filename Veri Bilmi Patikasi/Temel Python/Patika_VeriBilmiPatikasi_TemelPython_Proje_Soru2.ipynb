{
 "cells": [
  {
   "cell_type": "markdown",
   "metadata": {},
   "source": [
    "# Soru"
   ]
  },
  {
   "cell_type": "markdown",
   "metadata": {},
   "source": [
    "2- Verilen listenin içindeki elemanları tersine döndüren bir fonksiyon yazın. Eğer listenin içindeki elemanlar da liste içeriyorsa onların elemanlarını da tersine döndürün.\n",
    "\n",
    "input: [[1, 2], [3, 4], [5, 6, 7]]\n",
    "\n",
    "output: [[[7, 6, 5], [4, 3], [2, 1]]"
   ]
  },
  {
   "cell_type": "markdown",
   "metadata": {},
   "source": [
    "# Cözüm\n",
    "En fazla iki boyuta kadar listeleri elemanlarıyla birlikte ters çeviriyor."
   ]
  },
  {
   "cell_type": "code",
   "execution_count": 7,
   "metadata": {},
   "outputs": [
    {
     "name": "stdout",
     "output_type": "stream",
     "text": [
      "Write the List: (Ex: [1,2,[3,4]]  etc...)\n",
      "[[1, 2], [3, 4], [5, 6, 7]]\n",
      "\n",
      "Given List:\n",
      "[[1, 2], [3, 4], [5, 6, 7]]\n",
      "\n",
      "Flatten List:\n",
      "[[7, 6, 5], [4, 3], [2, 1]]\n"
     ]
    }
   ],
   "source": [
    "#Source\n",
    "\n",
    "def isAllElementNonList(List):\n",
    "    \"it returns false if there is an element as list type in the given list\"\n",
    "    \n",
    "    for e in List:\n",
    "        if(type(e) is list):\n",
    "            return False\n",
    "    return True\n",
    "            \n",
    "def reverseSecond(List):\n",
    "    \"it reverses the list\"\n",
    "    \n",
    "    condition=isAllElementNonList(List)  \n",
    "    \n",
    "    if(condition):\n",
    "        List.reverse()\n",
    "    else:\n",
    "        for e in List:\n",
    "            e.reverse()\n",
    "        List.reverse()\n",
    "    return List\n",
    "\n",
    "\n",
    "#input\n",
    "import ast\n",
    "\n",
    "List = ast.literal_eval(input(\"Write the List: (Ex: [1,2,[3,4]]  etc...)\\n\"))\n",
    "print(\"\\nGiven List:\\n\",List,sep=\"\")\n",
    "\n",
    "#Output\n",
    "print(\"\\nFlatten List:\\n\",reverseSecond(List),sep=\"\")            "
   ]
  },
  {
   "cell_type": "code",
   "execution_count": null,
   "metadata": {},
   "outputs": [],
   "source": []
  }
 ],
 "metadata": {
  "kernelspec": {
   "display_name": "Python 3",
   "language": "python",
   "name": "python3"
  },
  "language_info": {
   "codemirror_mode": {
    "name": "ipython",
    "version": 3
   },
   "file_extension": ".py",
   "mimetype": "text/x-python",
   "name": "python",
   "nbconvert_exporter": "python",
   "pygments_lexer": "ipython3",
   "version": "3.7.1"
  }
 },
 "nbformat": 4,
 "nbformat_minor": 4
}
